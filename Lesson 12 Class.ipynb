{
 "cells": [
  {
   "cell_type": "code",
   "execution_count": 1,
   "id": "f4c53ed0",
   "metadata": {},
   "outputs": [],
   "source": [
    "import sys,random"
   ]
  },
  {
   "cell_type": "code",
   "execution_count": null,
   "id": "cdcf220b",
   "metadata": {},
   "outputs": [],
   "source": []
  },
  {
   "cell_type": "code",
   "execution_count": 17,
   "id": "a3b5b146",
   "metadata": {},
   "outputs": [],
   "source": [
    "class Player():\n",
    "    def __init__(self,name,health=3,energy=100):\n",
    "        self.name = name\n",
    "        self.health = health\n",
    "        self.energy = energy\n",
    "        self.attack =0\n",
    "        self.qacmaq = 0\n",
    "        \n",
    "    def status(self,):\n",
    "        print('Attack: ',self.attack)\n",
    "        print('Health: ',self.health)\n",
    "        print('Energy: ',self.energy)\n",
    "    \n",
    "    def out(self,):\n",
    "        sys.exit()\n",
    "    \n",
    "    def penalty(self):\n",
    "        self.attack +=1\n",
    "        self.energy -=10\n",
    "        if self.attack %2==0:\n",
    "            if self.health !=0:\n",
    "                self.health -=1\n",
    "            else:\n",
    "                print(f'{self.name} meglub oldu')\n",
    "                sys.exit()\n",
    "\n",
    "        self.status()        \n",
    "        if self.energy<=0:\n",
    "            self.out()\n",
    "    \n",
    "    def escape(self,):\n",
    "        print('Qacdim ! :( ')\n",
    "        print('statuslar eynidir')\n",
    "        self.qacmaq +=1\n",
    "        if self.qacmaq>2:\n",
    "            print('Meglub oldunuz')\n",
    "            self.out()\n",
    "            \n",
    "    def result_of_attack(self):\n",
    "        return random.randint(0,2)\n",
    "\n",
    "    def fight(self,reqib):\n",
    "        print('Attack started !!!')\n",
    "        for i in range(1):\n",
    "            result = self.result_of_attack()\n",
    "            if result == 0:\n",
    "                self.status()\n",
    "                \n",
    "                reqib.status()\n",
    "            elif result == 1:\n",
    "                print('Reqibi vurdunuz!!\\n')\n",
    "                reqib.penalty()\n",
    "                self.status()\n",
    "                print(\"*\"*30)\n",
    "                reqib.status()\n",
    "            else:\n",
    "                print('Reqib terefden atak oldu!!!\\n')\n",
    "                self.penalty()\n",
    "                self.status()\n",
    "                print(\"*\"*30)\n",
    "                reqib.status()"
   ]
  },
  {
   "cell_type": "code",
   "execution_count": 18,
   "id": "22f14a09",
   "metadata": {},
   "outputs": [],
   "source": [
    "player_1 = Player(\"Samir\")\n",
    "player_2 = Player(\"Aytan\")"
   ]
  },
  {
   "cell_type": "code",
   "execution_count": 16,
   "id": "6c3b975d",
   "metadata": {},
   "outputs": [
    {
     "name": "stdout",
     "output_type": "stream",
     "text": [
      "Savas basladi \n",
      "Ne etmek isteyirsiniz\n",
      "f : savasmaq\n",
      "q: qacmaq\n",
      "c : cixmaq\n",
      "f\n",
      "Attack started !!!\n",
      "Attack:  0\n",
      "Health:  3\n",
      "Energy:  100\n",
      "Attack:  0\n",
      "Health:  3\n",
      "Energy:  100\n",
      "Attack:  0\n",
      "Health:  3\n",
      "Energy:  100\n",
      "Attack:  0\n",
      "Health:  3\n",
      "Energy:  100\n",
      "Attack:  0\n",
      "Health:  3\n",
      "Energy:  100\n",
      "Attack:  0\n",
      "Health:  3\n",
      "Energy:  100\n",
      "Reqibi vurdunuz!!\n",
      "\n",
      "Attack:  1\n",
      "Health:  3\n",
      "Energy:  90\n",
      "Attack:  0\n",
      "Health:  3\n",
      "Energy:  100\n",
      "******************************\n",
      "Attack:  1\n",
      "Health:  3\n",
      "Energy:  90\n",
      "Reqib terefden atak oldu!!!\n",
      "\n",
      "Attack:  1\n",
      "Health:  3\n",
      "Energy:  90\n",
      "Attack:  1\n",
      "Health:  3\n",
      "Energy:  90\n",
      "******************************\n",
      "Attack:  1\n",
      "Health:  3\n",
      "Energy:  90\n",
      "Attack:  1\n",
      "Health:  3\n",
      "Energy:  90\n",
      "Attack:  1\n",
      "Health:  3\n",
      "Energy:  90\n",
      "Reqib terefden atak oldu!!!\n",
      "\n",
      "Attack:  2\n",
      "Health:  2\n",
      "Energy:  80\n",
      "Attack:  2\n",
      "Health:  2\n",
      "Energy:  80\n",
      "******************************\n",
      "Attack:  1\n",
      "Health:  3\n",
      "Energy:  90\n",
      "Savas basladi \n",
      "Ne etmek isteyirsiniz\n",
      "f : savasmaq\n",
      "q: qacmaq\n",
      "c : cixmaq\n",
      "q\n",
      "Qacdim ! :( \n",
      "statuslar eynidir\n",
      "Savas basladi \n",
      "Ne etmek isteyirsiniz\n",
      "f : savasmaq\n",
      "q: qacmaq\n",
      "c : cixmaq\n",
      "f\n",
      "Attack started !!!\n",
      "Reqib terefden atak oldu!!!\n",
      "\n",
      "Attack:  3\n",
      "Health:  2\n",
      "Energy:  70\n",
      "Attack:  3\n",
      "Health:  2\n",
      "Energy:  70\n",
      "******************************\n",
      "Attack:  1\n",
      "Health:  3\n",
      "Energy:  90\n",
      "Reqib terefden atak oldu!!!\n",
      "\n",
      "Attack:  4\n",
      "Health:  1\n",
      "Energy:  60\n",
      "Attack:  4\n",
      "Health:  1\n",
      "Energy:  60\n",
      "******************************\n",
      "Attack:  1\n",
      "Health:  3\n",
      "Energy:  90\n",
      "Reqib terefden atak oldu!!!\n",
      "\n",
      "Attack:  5\n",
      "Health:  1\n",
      "Energy:  50\n",
      "Attack:  5\n",
      "Health:  1\n",
      "Energy:  50\n",
      "******************************\n",
      "Attack:  1\n",
      "Health:  3\n",
      "Energy:  90\n",
      "Reqib terefden atak oldu!!!\n",
      "\n",
      "Attack:  6\n",
      "Health:  0\n",
      "Energy:  40\n",
      "Attack:  6\n",
      "Health:  0\n",
      "Energy:  40\n",
      "******************************\n",
      "Attack:  1\n",
      "Health:  3\n",
      "Energy:  90\n",
      "Reqib terefden atak oldu!!!\n",
      "\n",
      "Attack:  7\n",
      "Health:  0\n",
      "Energy:  30\n",
      "Attack:  7\n",
      "Health:  0\n",
      "Energy:  30\n",
      "******************************\n",
      "Attack:  1\n",
      "Health:  3\n",
      "Energy:  90\n",
      "Attack:  7\n",
      "Health:  0\n",
      "Energy:  30\n",
      "Attack:  1\n",
      "Health:  3\n",
      "Energy:  90\n",
      "Reqibi vurdunuz!!\n",
      "\n",
      "Attack:  2\n",
      "Health:  2\n",
      "Energy:  80\n",
      "Attack:  7\n",
      "Health:  0\n",
      "Energy:  30\n",
      "******************************\n",
      "Attack:  2\n",
      "Health:  2\n",
      "Energy:  80\n",
      "Savas basladi \n",
      "Ne etmek isteyirsiniz\n",
      "f : savasmaq\n",
      "q: qacmaq\n",
      "c : cixmaq\n",
      "f\n",
      "Attack started !!!\n",
      "Attack:  7\n",
      "Health:  0\n",
      "Energy:  30\n",
      "Attack:  2\n",
      "Health:  2\n",
      "Energy:  80\n",
      "Reqib terefden atak oldu!!!\n",
      "\n",
      "Samir meglub oldu\n"
     ]
    },
    {
     "ename": "SystemExit",
     "evalue": "",
     "output_type": "error",
     "traceback": [
      "An exception has occurred, use %tb to see the full traceback.\n",
      "\u001b[0;31mSystemExit\u001b[0m\n"
     ]
    },
    {
     "name": "stderr",
     "output_type": "stream",
     "text": [
      "/Users/samirvalizada_gisman/anaconda3/lib/python3.10/site-packages/IPython/core/interactiveshell.py:3468: UserWarning: To exit: use 'exit', 'quit', or Ctrl-D.\n",
      "  warn(\"To exit: use 'exit', 'quit', or Ctrl-D.\", stacklevel=1)\n"
     ]
    }
   ],
   "source": [
    "while(1):\n",
    "    print('Savas basladi ')\n",
    "    print('Ne etmek isteyirsiniz')\n",
    "    print('f : savasmaq')\n",
    "    print('q: qacmaq') \n",
    "    print('c : cixmaq')\n",
    "    user_input = input()\n",
    "    if user_input=='f':\n",
    "        player_1.fight(player_2)\n",
    "    elif user_input=='q':\n",
    "        player_1.escape()\n",
    "    elif user_input=='c':\n",
    "        player_1.out()\n",
    "    else:\n",
    "        print('duzgun olmadi')\n",
    "    "
   ]
  },
  {
   "cell_type": "code",
   "execution_count": null,
   "id": "a527cd62",
   "metadata": {},
   "outputs": [],
   "source": []
  },
  {
   "cell_type": "code",
   "execution_count": null,
   "id": "ca94d7ae",
   "metadata": {},
   "outputs": [],
   "source": []
  },
  {
   "cell_type": "code",
   "execution_count": 81,
   "id": "7b9af55e",
   "metadata": {},
   "outputs": [],
   "source": [
    "class Circle:\n",
    "    def __init__(self,radius):\n",
    "        self.radius = radius\n",
    "        \n",
    "    @property   \n",
    "    def radius(self,):\n",
    "        return self._radius\n",
    "    \n",
    "    @radius.setter\n",
    "    def radius(self,value):\n",
    "        if value <0:\n",
    "            raise ValueError(\"Radius cannot be  negative\")\n",
    "        else:\n",
    "            self._radius = value\n",
    "     \n",
    "    @property\n",
    "    def diametrs(self):\n",
    "        return self._radius*2\n",
    "    \n",
    "    @staticmethod    \n",
    "    def pi():\n",
    "        return 22/7\n",
    "    \n",
    "    def __str__(self):\n",
    "        return str(f\" Input radius euqals : {self._radius} \\nDiameter is{self.diametrs}\\nArea: {self.area}\")\n",
    "    \n",
    "    @property\n",
    "    def area(self,):\n",
    "        return self.pi() * self._radius**2"
   ]
  },
  {
   "cell_type": "code",
   "execution_count": 71,
   "id": "9eb21b96",
   "metadata": {},
   "outputs": [],
   "source": [
    "a = Circle(5)"
   ]
  },
  {
   "cell_type": "code",
   "execution_count": 72,
   "id": "93369f96",
   "metadata": {},
   "outputs": [
    {
     "data": {
      "text/plain": [
       "3.142857142857143"
      ]
     },
     "execution_count": 72,
     "metadata": {},
     "output_type": "execute_result"
    }
   ],
   "source": [
    "a.pi()"
   ]
  },
  {
   "cell_type": "code",
   "execution_count": 73,
   "id": "ba1c69bb",
   "metadata": {},
   "outputs": [
    {
     "data": {
      "text/plain": [
       "5"
      ]
     },
     "execution_count": 73,
     "metadata": {},
     "output_type": "execute_result"
    }
   ],
   "source": [
    "a.radius"
   ]
  },
  {
   "cell_type": "code",
   "execution_count": 74,
   "id": "a5df6646",
   "metadata": {},
   "outputs": [],
   "source": [
    "a.radius = 15"
   ]
  },
  {
   "cell_type": "code",
   "execution_count": 75,
   "id": "a0e1de75",
   "metadata": {},
   "outputs": [
    {
     "data": {
      "text/plain": [
       "15"
      ]
     },
     "execution_count": 75,
     "metadata": {},
     "output_type": "execute_result"
    }
   ],
   "source": [
    "a.radius"
   ]
  },
  {
   "cell_type": "code",
   "execution_count": 76,
   "id": "3fd5de77",
   "metadata": {},
   "outputs": [
    {
     "data": {
      "text/plain": [
       "30"
      ]
     },
     "execution_count": 76,
     "metadata": {},
     "output_type": "execute_result"
    }
   ],
   "source": [
    "a.diametrs"
   ]
  },
  {
   "cell_type": "code",
   "execution_count": 77,
   "id": "2f0a5656",
   "metadata": {},
   "outputs": [
    {
     "data": {
      "text/plain": [
       "707.1428571428571"
      ]
     },
     "execution_count": 77,
     "metadata": {},
     "output_type": "execute_result"
    }
   ],
   "source": [
    "a.area"
   ]
  },
  {
   "cell_type": "code",
   "execution_count": 80,
   "id": "fc9b7a4a",
   "metadata": {},
   "outputs": [
    {
     "name": "stdout",
     "output_type": "stream",
     "text": [
      "Input radius euqals : 15 \n",
      " Diameter is30 \n",
      " Area: 707.1428571428571\n"
     ]
    }
   ],
   "source": [
    "print(a)"
   ]
  },
  {
   "cell_type": "code",
   "execution_count": null,
   "id": "633c66ce",
   "metadata": {},
   "outputs": [],
   "source": []
  }
 ],
 "metadata": {
  "kernelspec": {
   "display_name": "Python 3 (ipykernel)",
   "language": "python",
   "name": "python3"
  },
  "language_info": {
   "codemirror_mode": {
    "name": "ipython",
    "version": 3
   },
   "file_extension": ".py",
   "mimetype": "text/x-python",
   "name": "python",
   "nbconvert_exporter": "python",
   "pygments_lexer": "ipython3",
   "version": "3.10.9"
  }
 },
 "nbformat": 4,
 "nbformat_minor": 5
}
