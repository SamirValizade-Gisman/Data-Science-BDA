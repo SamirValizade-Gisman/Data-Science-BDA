{
 "cells": [
  {
   "cell_type": "markdown",
   "id": "136574a1",
   "metadata": {},
   "source": [
    "#1. Which method should I use to convert String \"welcome to the beautiful world of python\" to \"Welcome To The Beautiful World Of Python\"\n"
   ]
  },
  {
   "cell_type": "code",
   "execution_count": 3,
   "id": "3caa0446",
   "metadata": {},
   "outputs": [
    {
     "data": {
      "text/plain": [
       "'Welcome To The Beautiful World Of Python'"
      ]
     },
     "execution_count": 3,
     "metadata": {},
     "output_type": "execute_result"
    }
   ],
   "source": [
    "Text = 'welcome to the beautiful world of python'\n",
    "Text.title()"
   ]
  },
  {
   "cell_type": "markdown",
   "id": "bd434a07",
   "metadata": {},
   "source": [
    "#2. Select the correct output of the following String operations\n",
    "\n",
    "str1 = 'Welcome'\n",
    "print (str1[:6] + ' PYnative')"
   ]
  },
  {
   "cell_type": "code",
   "execution_count": 4,
   "id": "fd931823",
   "metadata": {},
   "outputs": [
    {
     "name": "stdout",
     "output_type": "stream",
     "text": [
      "Welcom PYnative\n"
     ]
    }
   ],
   "source": [
    "str1 = 'Welcome'\n",
    "print (str1[:6] + ' PYnative')"
   ]
  },
  {
   "cell_type": "markdown",
   "id": "296715ab",
   "metadata": {},
   "source": [
    "#3.Guess the correct output of the following String operations\n",
    "\n",
    "str1 = 'Welcome'\n",
    "print(str1*2)"
   ]
  },
  {
   "cell_type": "code",
   "execution_count": 5,
   "id": "d068687b",
   "metadata": {},
   "outputs": [
    {
     "name": "stdout",
     "output_type": "stream",
     "text": [
      "WelcomeWelcome\n"
     ]
    }
   ],
   "source": [
    "str1 = 'Welcome'\n",
    "print(str1*2)"
   ]
  },
  {
   "cell_type": "markdown",
   "id": "a860b1f3",
   "metadata": {},
   "source": [
    "# Select the correct output of the following String operations\n",
    "\n",
    "str = \"my name is James bond\";\n",
    "print (str.capitalize())"
   ]
  },
  {
   "cell_type": "code",
   "execution_count": 6,
   "id": "8bd6a733",
   "metadata": {},
   "outputs": [
    {
     "data": {
      "text/plain": [
       "'My name is james bond'"
      ]
     },
     "execution_count": 6,
     "metadata": {},
     "output_type": "execute_result"
    }
   ],
   "source": [
    "str = \"my name is James bond\"\n",
    "str.capitalize()"
   ]
  },
  {
   "cell_type": "markdown",
   "id": "1e920628",
   "metadata": {},
   "source": [
    "# What is the output of the following string operations\n",
    "\n",
    "str = \"My salary is 7000\";\n",
    "print(str.isalnum())"
   ]
  },
  {
   "cell_type": "code",
   "execution_count": 7,
   "id": "dd242f28",
   "metadata": {},
   "outputs": [
    {
     "data": {
      "text/plain": [
       "False"
      ]
     },
     "execution_count": 7,
     "metadata": {},
     "output_type": "execute_result"
    }
   ],
   "source": [
    "str = \"My salary is 7000\"\n",
    "str.isalnum()"
   ]
  },
  {
   "cell_type": "markdown",
   "id": "8c16ba44",
   "metadata": {},
   "source": [
    "# What is the output of the following string comparison\n",
    "\n",
    "print(\"John\" > \"Jhon\")\n",
    "print(\"Emma\" < \"Emm\")"
   ]
  },
  {
   "cell_type": "code",
   "execution_count": 9,
   "id": "a743a9eb",
   "metadata": {},
   "outputs": [
    {
     "name": "stdout",
     "output_type": "stream",
     "text": [
      "True\n",
      "False\n"
     ]
    }
   ],
   "source": [
    "print(\"John\" > \"Jhon\")\n",
    "print(\"Emma\" < \"Emm\")"
   ]
  },
  {
   "cell_type": "markdown",
   "id": "15c50623",
   "metadata": {},
   "source": [
    "# Guess the correct output of the following code?\n",
    "\n",
    "str1 = \"PYnative\"\n",
    "print(str1[1:4], str1[:5], str1[4:], str1[0:-1], str1[:-1])"
   ]
  },
  {
   "cell_type": "code",
   "execution_count": 12,
   "id": "8c6e06f6",
   "metadata": {},
   "outputs": [
    {
     "name": "stdout",
     "output_type": "stream",
     "text": [
      "Yna PYnat tive PYnativ PYnativ\n"
     ]
    }
   ],
   "source": [
    "str1 = \"PYnative\"\n",
    "print(str1[1:4],str1[:5],str1[4:],str1[0:-1],str1[:-1])"
   ]
  },
  {
   "cell_type": "markdown",
   "id": "6fa94600",
   "metadata": {},
   "source": [
    "# Select the correct output of the following string operations\n",
    "\n",
    "myString = \"pynative\"\n",
    "stringList = [\"abc\", \"pynative\", \"xyz\"]\n",
    "\n",
    "print(stringList[1] == myString)\n",
    "print(stringList[1] is myString)"
   ]
  },
  {
   "cell_type": "code",
   "execution_count": 13,
   "id": "479ecee3",
   "metadata": {},
   "outputs": [
    {
     "name": "stdout",
     "output_type": "stream",
     "text": [
      "True\n",
      "abc\n"
     ]
    },
    {
     "name": "stderr",
     "output_type": "stream",
     "text": [
      "<>:4: SyntaxWarning: \"is\" with a literal. Did you mean \"==\"?\n",
      "<>:4: SyntaxWarning: \"is\" with a literal. Did you mean \"==\"?\n",
      "/var/folders/64/rrn6p89n7rz8mbmf250_6mdc0000gn/T/ipykernel_1439/861949217.py:4: SyntaxWarning: \"is\" with a literal. Did you mean \"==\"?\n",
      "  print(stringlist[1 is myString])\n"
     ]
    }
   ],
   "source": [
    "myString = \"pynative\"\n",
    "stringlist = [\"abc\", \"pynative\", \"xyz\"]\n",
    "print(stringlist[1] == myString)\n",
    "print(stringlist[1 is myString])"
   ]
  },
  {
   "cell_type": "markdown",
   "id": "a3ad80ff",
   "metadata": {},
   "source": [
    "# Select the correct output of the following String operations\n",
    "\n",
    "str1 = \"my isname isisis jameis isis bond\";\n",
    "sub = \"is\";\n",
    "print(str1.count(sub, 4))"
   ]
  },
  {
   "cell_type": "code",
   "execution_count": 14,
   "id": "f3d1aa7c",
   "metadata": {},
   "outputs": [
    {
     "name": "stdout",
     "output_type": "stream",
     "text": [
      "6\n"
     ]
    }
   ],
   "source": [
    "str1 = \"my isname isisis jameis isis bond\"\n",
    "sub = \"is\"\n",
    "print(str1.count(sub,4))"
   ]
  },
  {
   "cell_type": "markdown",
   "id": "236b116d",
   "metadata": {},
   "source": [
    "#  Select the correct output of the following String operations\n",
    "\n",
    "strOne = str(\"pynative\")\n",
    "strTwo = \"pynative\"\n",
    "print(strOne == strTwo)\n",
    "print(strOne is strTwo)"
   ]
  },
  {
   "cell_type": "code",
   "execution_count": 17,
   "id": "a49cc1c4",
   "metadata": {},
   "outputs": [
    {
     "ename": "TypeError",
     "evalue": "'str' object is not callable",
     "output_type": "error",
     "traceback": [
      "\u001b[0;31m---------------------------------------------------------------------------\u001b[0m",
      "\u001b[0;31mTypeError\u001b[0m                                 Traceback (most recent call last)",
      "Cell \u001b[0;32mIn[17], line 1\u001b[0m\n\u001b[0;32m----> 1\u001b[0m str0ne \u001b[38;5;241m=\u001b[39m \u001b[38;5;28;43mstr\u001b[39;49m\u001b[43m(\u001b[49m\u001b[38;5;124;43m\"\u001b[39;49m\u001b[38;5;124;43mpynative\u001b[39;49m\u001b[38;5;124;43m\"\u001b[39;49m\u001b[43m)\u001b[49m\n\u001b[1;32m      2\u001b[0m strTwo \u001b[38;5;241m=\u001b[39m \u001b[38;5;124m\"\u001b[39m\u001b[38;5;124mpynative\u001b[39m\u001b[38;5;124m\"\u001b[39m\n\u001b[1;32m      3\u001b[0m \u001b[38;5;28mprint\u001b[39m(str0ne \u001b[38;5;241m==\u001b[39m strTwo)\n",
      "\u001b[0;31mTypeError\u001b[0m: 'str' object is not callable"
     ]
    }
   ],
   "source": [
    "str0ne = str(\"pynative\")\n",
    "strTwo = \"pynative\"\n",
    "print(str0ne == strTwo) #True  hər ikisini python string kimi basa dusur\n",
    "print(str0ne is strTwo) #False burda ise yoxladıqda hər birinin özünün kodu olduğunu göstərir. is ve == isareleri\n",
    "                        #ferqli meqsed üçün işlədilir."
   ]
  },
  {
   "cell_type": "markdown",
   "id": "7468190f",
   "metadata": {},
   "source": [
    "# What is the output of the following code\n",
    "\n",
    "str1 = \"My salary is 7000\";\n",
    "str2 = \"7000\"\n",
    "\n",
    "print(str1.isdigit())\n",
    "print(str2.isdigit())"
   ]
  },
  {
   "cell_type": "code",
   "execution_count": 18,
   "id": "d3d44325",
   "metadata": {},
   "outputs": [
    {
     "name": "stdout",
     "output_type": "stream",
     "text": [
      "False\n",
      "True\n"
     ]
    }
   ],
   "source": [
    "str1 = \"My salary is 7000\"\n",
    "str2 = \"7000\"\n",
    "print(str1.isdigit())\n",
    "print(str2.isdigit())"
   ]
  },
  {
   "cell_type": "code",
   "execution_count": null,
   "id": "5ae3fde3",
   "metadata": {},
   "outputs": [],
   "source": []
  }
 ],
 "metadata": {
  "kernelspec": {
   "display_name": "Python 3 (ipykernel)",
   "language": "python",
   "name": "python3"
  },
  "language_info": {
   "codemirror_mode": {
    "name": "ipython",
    "version": 3
   },
   "file_extension": ".py",
   "mimetype": "text/x-python",
   "name": "python",
   "nbconvert_exporter": "python",
   "pygments_lexer": "ipython3",
   "version": "3.10.9"
  }
 },
 "nbformat": 4,
 "nbformat_minor": 5
}
