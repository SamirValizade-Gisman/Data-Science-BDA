{
 "cells": [
  {
   "cell_type": "code",
   "execution_count": null,
   "id": "5cf6f49d",
   "metadata": {},
   "outputs": [],
   "source": [
    "\"\"\"\n",
    "\n",
    "bir tuple yaradin tuple da 3 item olsun (x,y,z) kimi hemin tuple'u -> (z,x,y) halina getirin.\n",
    "\n",
    "\"\"\""
   ]
  },
  {
   "cell_type": "code",
   "execution_count": 6,
   "id": "8c819e95",
   "metadata": {},
   "outputs": [
    {
     "name": "stdout",
     "output_type": "stream",
     "text": [
      "('divan', 'stul', 'stol')\n"
     ]
    },
    {
     "data": {
      "text/plain": [
       "tuple"
      ]
     },
     "execution_count": 6,
     "metadata": {},
     "output_type": "execute_result"
    }
   ],
   "source": [
    "mebel = ('stol','stul','divan')\n",
    "mebel_list = list(mebel)\n",
    "mebel_list.reverse()\n",
    "mebel = tuple(mebel_list)\n",
    "print(mebel)\n",
    "type(mebel)"
   ]
  },
  {
   "cell_type": "code",
   "execution_count": null,
   "id": "8427e444",
   "metadata": {},
   "outputs": [],
   "source": [
    "\"\"\"\n",
    "my_tuple = (\"apple\", \"banana\", \"cherry\", \"apple\", \"date\", \"fig\", \"cherry\", \"apple\")\n",
    "1.Tuple-un bütün elementlərinin sayını (count) və hər elementin ilk görüldüyü yeri (index) tapın.\n",
    "2.Tuple-un elementlərini ayrı-ayrı dəyişənlərə unpacking edin (burda astriks(*) istifade edin ).\n",
    "3.Tuple-un elementlərini tərsinə çevirin və yeni bir tuple yaradın.\n",
    "\n",
    "\"\"\""
   ]
  },
  {
   "cell_type": "code",
   "execution_count": 22,
   "id": "974b3c41",
   "metadata": {},
   "outputs": [
    {
     "name": "stdout",
     "output_type": "stream",
     "text": [
      "Task 1\n",
      "Tuple daxilindeki elementlerin sayi: 8\n",
      "Element: apple, First Index: 0\n",
      "Element: banana, First Index: 1\n",
      "Element: cherry, First Index: 2\n",
      "Element: date, First Index: 4\n",
      "Element: fig, First Index: 5\n",
      "Task 2\n",
      "Deyisen 1: apple\n",
      "Deyisen 2: ['banana', 'cherry', 'apple', 'date', 'fig', 'cherry']\n",
      "Deyisen 3: apple\n",
      "Task 3\n",
      "('apple', 'cherry', 'fig', 'date', 'apple', 'cherry', 'banana', 'apple')\n"
     ]
    }
   ],
   "source": [
    "my_tuple = (\"apple\", \"banana\", \"cherry\", \"apple\", \"date\", \"fig\", \"cherry\", \"apple\")\n",
    "my_tuple_list = list(my_tuple)\n",
    "\n",
    "print('Task 1')\n",
    "print('Tuple daxilindeki elementlerin sayi:',len(my_tuple_list))\n",
    "\n",
    "print('\\n'.join([f\"Element: {item}, First Index: {index}\" for item, index in first_index.items()]))\n",
    "    \n",
    "print('Task 2')\n",
    "(protein,*gilemeyve,diger) = my_tuple\n",
    "print('Deyisen 1:',protein)\n",
    "print('Deyisen 2:',gilemeyve)\n",
    "print('Deyisen 3:',diger)\n",
    "\n",
    "\n",
    "print('Task 3')\n",
    "my_tuple_list.reverse()\n",
    "my_tuple = tuple(my_tuple_list)\n",
    "print(my_tuple)"
   ]
  },
  {
   "cell_type": "code",
   "execution_count": null,
   "id": "b8e4dab6",
   "metadata": {},
   "outputs": [],
   "source": [
    "\"\"\"\n",
    "bir masin dictionary yaradin\n",
    "keys: marka, model , year, odemeter(km),color, door_count\n",
    "values hissesi istediyinizi doldura bilersiniz. en az 2 masin daxil etmekler\n",
    "\n",
    "bundan sonra string metodlardan istifade ederek marka icinde olan butun itemlarin:\n",
    "1.butun herflerini boyuk edin.\n",
    "\n",
    "marka yazdiginiz year birincini 2024 ile ikincini 2000 ile evez edin\n",
    "\n",
    "yeni bir key yaradin new_or_second_hand default olaraq new yazin\n",
    "sonradan 2ci masin ucun new_or_second_hand deyerini second hand olaraq deyisdirin\n",
    "\"\"\""
   ]
  },
  {
   "cell_type": "code",
   "execution_count": 38,
   "id": "bcbe7988",
   "metadata": {},
   "outputs": [
    {
     "name": "stdout",
     "output_type": "stream",
     "text": [
      "{'marka': ['Ford', 'Toyoto'], 'model': ['Fusion', 'Camry'], 'year': [2016, 2018], 'odemetr': [126500, 56000], 'color': ['Gold', 'White'], 'door_count': [2, 4]}\n",
      "FORD,TOYOTO\n",
      "Markanin butun herfleri boyuk:\n",
      "  {'marka': 'FORD,TOYOTO', 'model': ['Fusion', 'Camry'], 'year': [2016, 2018], 'odemetr': [126500, 56000], 'color': ['Gold', 'White'], 'door_count': [2, 4]}\n",
      "Years deyisdirildi:  \n",
      " {'marka': 'FORD,TOYOTO', 'model': ['Fusion', 'Camry'], 'year': [2024, 2000], 'odemetr': [126500, 56000], 'color': ['Gold', 'White'], 'door_count': [2, 4]}\n",
      "{'marka': 'FORD,TOYOTO', 'model': ['Fusion', 'Camry'], 'year': [2024, 2000], 'odemetr': [126500, 56000], 'color': ['Gold', 'White'], 'door_count': [2, 4], 'new_or_second_hand': ['new', 'new']}\n",
      "{'marka': 'FORD,TOYOTO', 'model': ['Fusion', 'Camry'], 'year': [2024, 2000], 'odemetr': [126500, 56000], 'color': ['Gold', 'White'], 'door_count': [2, 4], 'new_or_second_hand': ['new', 'second_hand']}\n"
     ]
    }
   ],
   "source": [
    "car = {\"marka\":['Ford','Toyoto'],\n",
    "       \"model\":['Fusion','Camry'],\n",
    "       \"year\" :[2016,2018],\n",
    "       \"odemetr\":[126500,56000],\n",
    "       \"color\" :['Gold','White'],\n",
    "       \"door_count\":[2,4]\n",
    "    \n",
    "}\n",
    "print(car)\n",
    "#1\n",
    "upper_marka = ','.join(car.get(\"marka\")).upper()\n",
    "print(upper_marka)\n",
    "car.update({\"marka\":upper_marka})\n",
    "print(\"Markanin butun herfleri boyuk:\\n \",car)\n",
    "\n",
    "car.update({\"year\": [2024,2000]})\n",
    "print(\"Years deyisdirildi:  \\n\",car)\n",
    "#2\n",
    "car[\"new_or_second_hand\"] = [\"new\",\"new\"]\n",
    "print(car)\n",
    "car.update({\"new_or_second_hand\":['new','second_hand']})\n",
    "print(car)\n"
   ]
  },
  {
   "cell_type": "code",
   "execution_count": null,
   "id": "77d42a5b",
   "metadata": {},
   "outputs": [],
   "source": [
    "\"\"\"\n",
    "\n",
    "Bir “şəxs” (person) dictionary yaradın.\n",
    "Keys: “ad”, “soyad”, “yas”, “city”, “meslek”, “maas”\n",
    "Values hissəsini istədiyiniz kimi doldura bilərsiniz. Ən az 3 şəxs daxil edin.\n",
    "\n",
    "Bundan sonra string metodlardan istifadə edərək:\n",
    "\n",
    "1.“city” içində olan bütün itemlərin hərflərini kiçik edin.\n",
    "2.İlk şəxsin “yas” dəyərini 30 ilə, ikinci şəxsin “yas” dəyərini 25 ilə, üçüncü şəxsin “yas” dəyərini isə 20 ilə dəyişdirin.\n",
    "3.Yeni bir key yaradın “evli” və default olaraq “bekar” yazın.\n",
    "4.Sonradan birinci şəxsin “evli” dəyərini “evli” olaraq dəyişdirin.\n",
    "\"\"\""
   ]
  },
  {
   "cell_type": "code",
   "execution_count": 51,
   "id": "a8b333e6",
   "metadata": {},
   "outputs": [
    {
     "name": "stdout",
     "output_type": "stream",
     "text": [
      "{'ad': ['Elvin', 'Aysel', 'Togrul'], 'soyad': ['Mehdiyev', 'Eliyev', 'Aliyev'], 'yas': [23, 21, 45], 'city': ['Baki', 'Gence', 'Mingecevir'], 'meslek': ['Mühendis', 'Muellim', 'Hekim'], 'maas': [2500, 560, 7000]}\n",
      "baki,gence,mingecevir\n",
      "City-nin butun herfleri kicik:\n",
      "  {'ad': ['Elvin', 'Aysel', 'Togrul'], 'soyad': ['Mehdiyev', 'Eliyev', 'Aliyev'], 'yas': [23, 21, 45], 'city': 'baki,gence,mingecevir', 'meslek': ['Mühendis', 'Muellim', 'Hekim'], 'maas': [2500, 560, 7000]}\n",
      "Yas deyerleri deyisdi:  {'ad': ['Elvin', 'Aysel', 'Togrul'], 'soyad': ['Mehdiyev', 'Eliyev', 'Aliyev'], 'yas': [30, 25, 20], 'city': 'baki,gence,mingecevir', 'meslek': ['Mühendis', 'Muellim', 'Hekim'], 'maas': [2500, 560, 7000]}\n",
      "Yeni deyisen elave edildi:  {'ad': ['Elvin', 'Aysel', 'Togrul'], 'soyad': ['Mehdiyev', 'Eliyev', 'Aliyev'], 'yas': [30, 25, 20], 'city': 'baki,gence,mingecevir', 'meslek': ['Mühendis', 'Muellim', 'Hekim'], 'maas': [2500, 560, 7000], 'evli': ['bekar, bekar, bekar']}\n",
      "{'ad': ['Elvin', 'Aysel', 'Togrul'], 'soyad': ['Mehdiyev', 'Eliyev', 'Aliyev'], 'yas': [30, 25, 20], 'city': 'baki,gence,mingecevir', 'meslek': ['Mühendis', 'Muellim', 'Hekim'], 'maas': [2500, 560, 7000], 'evli': ['evli', 'bekar', 'bekar']}\n"
     ]
    }
   ],
   "source": [
    "shexsler = {\n",
    "        \"ad\": [\"Elvin\",\"Aysel\",\"Togrul\"],\n",
    "        \"soyad\": [\"Mehdiyev\",\"Eliyev\",\"Aliyev\"],\n",
    "        \"yas\": [23,21,45],\n",
    "        \"city\": [\"Baki\",\"Gence\",\"Mingecevir\"],\n",
    "        \"meslek\": [\"Mühendis\",\"Muellim\",\"Hekim\"],\n",
    "        \"maas\": [2500,560,7000]\n",
    "    }\n",
    "print(shexsler)\n",
    "#1\n",
    "upper_city = ','.join(shexsler.get(\"city\")).lower()\n",
    "print(upper_city)\n",
    "shexsler.update({\"city\":upper_city})\n",
    "print(\"City-nin butun herfleri kicik:\\n \",shexsler)\n",
    "#2\n",
    "shexsler[\"yas\"] = [30,25,20]\n",
    "print(\"Yas deyerleri deyisdi: \",shexsler)\n",
    "#3\n",
    "shexsler[\"evli\"] = ['bekar, '*2+\"bekar\"]\n",
    "print(\"Yeni deyisen elave edildi: \",shexsler)\n",
    "#4\n",
    "shexsler[\"evli\"] = [\"evli\",\"bekar\",\"bekar\"]\n",
    "print(shexsler)"
   ]
  },
  {
   "cell_type": "code",
   "execution_count": null,
   "id": "40d5aedc",
   "metadata": {},
   "outputs": [],
   "source": [
    "\"\"\"\n",
    "keys = [\"ad\", \"soyad\", \"yas\", \"seher\", \"meslek\"]\n",
    "values hisseni keys'e uygun list ve ya tuple seklinde doldurun \n",
    "\n",
    "keys ve values istifade ederek dict yaradin\n",
    "\"\"\""
   ]
  },
  {
   "cell_type": "code",
   "execution_count": 52,
   "id": "f4fd5286",
   "metadata": {},
   "outputs": [
    {
     "name": "stdout",
     "output_type": "stream",
     "text": [
      "{'ad': 'Aysel', 'soyad': 'Elizade', 'yas': 21, 'seher': 'Baki', 'meslek': 'Muhendis'}\n"
     ]
    }
   ],
   "source": [
    "keys = [\"ad\", \"soyad\", \"yas\", \"seher\", \"meslek\"]\n",
    "values = [\"Aysel\",\"Elizade\",21,\"Baki\",\"Muhendis\"]\n",
    "shexs = dict(zip(keys,values))\n",
    "print(shexs)"
   ]
  },
  {
   "cell_type": "markdown",
   "id": "8e6ed366",
   "metadata": {},
   "source": [
    "---"
   ]
  }
 ],
 "metadata": {
  "kernelspec": {
   "display_name": "Python 3 (ipykernel)",
   "language": "python",
   "name": "python3"
  },
  "language_info": {
   "codemirror_mode": {
    "name": "ipython",
    "version": 3
   },
   "file_extension": ".py",
   "mimetype": "text/x-python",
   "name": "python",
   "nbconvert_exporter": "python",
   "pygments_lexer": "ipython3",
   "version": "3.10.9"
  }
 },
 "nbformat": 4,
 "nbformat_minor": 5
}
