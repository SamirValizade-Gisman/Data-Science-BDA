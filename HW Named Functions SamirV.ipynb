{
 "cells": [
  {
   "cell_type": "code",
   "execution_count": 2,
   "metadata": {},
   "outputs": [],
   "source": [
    "#\n",
    "\n",
    "#Funksiya formalasdirin ora istenilen sayda input verende Cut ve Tek leri mueyyen etsin."
   ]
  },
  {
   "cell_type": "code",
   "execution_count": 40,
   "metadata": {},
   "outputs": [],
   "source": [
    "def cut_tek(*args):\n",
    "    cut = []\n",
    "    tek = []\n",
    "    for i in args:\n",
    "        if i%2==0:\n",
    "            cut.append(i)\n",
    "        elif i %2 !=0:\n",
    "            tek.append(i)\n",
    "        else:\n",
    "            pass\n",
    "    return f'Cut ededler siyahisi: {cut}\\nTek ededler siyahisi: {tek}'\n",
    "    "
   ]
  },
  {
   "cell_type": "code",
   "execution_count": 41,
   "metadata": {},
   "outputs": [
    {
     "name": "stdout",
     "output_type": "stream",
     "text": [
      "Cut ededler siyahisi: [66, 98, 102]\n",
      "Tek ededler siyahisi: [1, 23, 45, 33, 65]\n"
     ]
    }
   ],
   "source": [
    "lists = [1,23,45,33,65,66,98,102]\n",
    "print(cut_tek(*lists))"
   ]
  },
  {
   "cell_type": "code",
   "execution_count": 3,
   "metadata": {},
   "outputs": [],
   "source": [
    "#\n",
    "\n",
    "# Funksiya formalasdirin. Istenilen sayda element verende 40-i her bir elemente bolen zaman tam bolunurse, \n",
    "# yazsin \"tam bolunur\", bolunmurse yazsin tam bolunmur amma error da vermesin."
   ]
  },
  {
   "cell_type": "code",
   "execution_count": 50,
   "metadata": {},
   "outputs": [],
   "source": [
    "def bolunen(*args):\n",
    "    for i in args:\n",
    "        try:\n",
    "            if 40%i==0:\n",
    "                print(f'Tam bolunur: {i}')\n",
    "            elif 40%i!=0:\n",
    "                print(f'Tam bolunmur: {i}')\n",
    "            else:\n",
    "                pass\n",
    "        except:\n",
    "            if i==0:\n",
    "                print(f'Sifra bolme yoxdur {i}')\n",
    "            else:\n",
    "                print(f'Herfler ve ya metne bolme olmur: {i}')\n",
    "    "
   ]
  },
  {
   "cell_type": "code",
   "execution_count": 51,
   "metadata": {},
   "outputs": [
    {
     "name": "stdout",
     "output_type": "stream",
     "text": [
      "Tam bolunur: 1\n",
      "Tam bolunur: 2\n",
      "Tam bolunmur: 3\n",
      "Tam bolunur: 4\n",
      "Tam bolunur: 5\n",
      "Tam bolunmur: 6\n",
      "Tam bolunmur: 7\n",
      "Tam bolunur: 8\n",
      "Tam bolunmur: 9\n",
      "Tam bolunmur: 11\n",
      "Tam bolunmur: 23\n",
      "Tam bolunur: 20\n",
      "Tam bolunmur: 26\n",
      "Tam bolunmur: 36\n",
      "Sifra bolme yoxdur 0\n",
      "Tam bolunmur: 44\n",
      "Herfler ve ya metne bolme olmur: a\n"
     ]
    }
   ],
   "source": [
    "lists_2 = [1,2,3,4,5,6,7,8,9,11,23,20,26,36,0,44,\"a\"]\n",
    "bolunen(*lists_2)"
   ]
  },
  {
   "cell_type": "code",
   "execution_count": 34,
   "metadata": {},
   "outputs": [],
   "source": [
    "#\n",
    "\n",
    "#Funksiya formalasdirin. Istenilen sayda element gelende 4e bolunenleri skip etsin, 0 gorende dayansin, \n",
    "#digerlerini ise bir liste yigsin "
   ]
  },
  {
   "cell_type": "code",
   "execution_count": 73,
   "metadata": {},
   "outputs": [],
   "source": [
    "def check(*args):\n",
    "    lists_3 =[]\n",
    "    for i in args:\n",
    "        try:\n",
    "            if i%4==0:\n",
    "                pass\n",
    "            else:\n",
    "                lists_3.append(i)\n",
    "        except:\n",
    "            if i==0:\n",
    "                break\n",
    "        \n",
    "    return lists_3"
   ]
  },
  {
   "cell_type": "code",
   "execution_count": 74,
   "metadata": {},
   "outputs": [
    {
     "data": {
      "text/plain": [
       "[18, 25, 5, 6, 7, 9, 11, 23, 26]"
      ]
     },
     "execution_count": 74,
     "metadata": {},
     "output_type": "execute_result"
    }
   ],
   "source": [
    "lists_2 = [8, 16, 18, 20, 25,'b',4,5,6,7,8,9,0,11,23,20,26,36,44,\"a\"]\n",
    "check(*lists_2)"
   ]
  },
  {
   "cell_type": "code",
   "execution_count": 6,
   "metadata": {},
   "outputs": [],
   "source": [
    "#\n",
    "\n",
    "#Duzbucagli ucbuzagin hipotenuzunun tapilmasi Funksiyasini yazin. (c2 (hipotunuz) =a2 (katet)+b2 (katet))"
   ]
  },
  {
   "cell_type": "code",
   "execution_count": 79,
   "metadata": {},
   "outputs": [],
   "source": [
    "def hipotenuz(a,b):\n",
    "    c=(pow(a,2)+pow(b,2))**0.5\n",
    "    return c\n",
    "\n",
    "    "
   ]
  },
  {
   "cell_type": "code",
   "execution_count": 80,
   "metadata": {},
   "outputs": [
    {
     "data": {
      "text/plain": [
       "5.0"
      ]
     },
     "execution_count": 80,
     "metadata": {},
     "output_type": "execute_result"
    }
   ],
   "source": [
    "hipotenuz(4,3)"
   ]
  },
  {
   "cell_type": "code",
   "execution_count": 7,
   "metadata": {},
   "outputs": [],
   "source": [
    "#\n",
    "\n",
    "#  verilen sayi qeder fibonacci silsilesi yaradan funksiya yazin\n",
    "# fibonacci silsilesi 0,1,1,2,3,5,8,13,21,34,55... yeni ozunden 2 evvelki sayi toplami ile elde edilir\n",
    "\n",
    "# challange hemin funksiyani recursive olaraq yazmaga calisin\n"
   ]
  },
  {
   "cell_type": "code",
   "execution_count": 8,
   "metadata": {},
   "outputs": [],
   "source": [
    "def fibonac(a):\n",
    "    fibo = [0,1]\n",
    "    for i in range(2,a):\n",
    "        fibo.append(fibo[i-1]+fibo[i-2])\n",
    "    return fibo[:a]"
   ]
  },
  {
   "cell_type": "code",
   "execution_count": 9,
   "metadata": {},
   "outputs": [
    {
     "data": {
      "text/plain": [
       "[0, 1, 1, 2, 3, 5, 8, 13, 21, 34]"
      ]
     },
     "execution_count": 9,
     "metadata": {},
     "output_type": "execute_result"
    }
   ],
   "source": [
    "fibonac(10)"
   ]
  },
  {
   "cell_type": "code",
   "execution_count": null,
   "metadata": {},
   "outputs": [],
   "source": [
    "\"\"\"\n",
    "funksiya yaradin funksiya 2 dictionary qebul etsin ve **kwargs qebul ede bilsin\n",
    "bu sekilde -> my_func(dict1, dict2, **kwargs)\n",
    "dict1 = {'a': 1, 'b': 2, 'c': 3}\n",
    "dict2 = {'b': 3, 'c': 4, 'd': 5}\n",
    "funkiya verile 2 dictionary deki ortaq key'lerin valuelarini toplasin ve ona kwargs olaraq \n",
    "verilen key'lere de baxsin eger , kwargs'in key si verilen 2 dict icinde \n",
    "varsa hemin keylerin valuelarini da toplasin\n",
    "\n",
    "ornek : \n",
    "my_func(dict1, dict2, **kwargs)  > (dict1, dict2, b=5, d=10, e=8)\n",
    "\n",
    "output - > {'a': 1, 'b': 10, 'c': 7, 'd': 15, 'e': 8}\n",
    "\"\"\""
   ]
  },
  {
   "cell_type": "code",
   "execution_count": 12,
   "metadata": {},
   "outputs": [],
   "source": [
    "def my_function(dict1,dict2,**kwargs):\n",
    "    dict3 = {}\n",
    "    for (key1,value1),(key2,value2) in zip(dict1.items(),dict2.items()):\n",
    "        if key1==key2:\n",
    "            dict3[key1]=value1+value2\n",
    "    for key,value in kwargs.items():\n",
    "        if key in dict3:\n",
    "            dict3[key]+=value\n",
    "        else:\n",
    "            dict3[key]=value\n",
    "    return dict3\n",
    "        "
   ]
  },
  {
   "cell_type": "code",
   "execution_count": 14,
   "metadata": {},
   "outputs": [
    {
     "data": {
      "text/plain": [
       "{'b': 5, 'd': 10, 'e': 8}"
      ]
     },
     "execution_count": 14,
     "metadata": {},
     "output_type": "execute_result"
    }
   ],
   "source": [
    "dict1 = {'a': 1, 'b': 2, 'c': 3}\n",
    "dict2 = {'b': 3, 'c': 4, 'd': 5}\n",
    "\n",
    "my_function(dict1,dict2,b=5, d=10, e=8)"
   ]
  },
  {
   "cell_type": "code",
   "execution_count": null,
   "metadata": {},
   "outputs": [],
   "source": []
  }
 ],
 "metadata": {
  "kernelspec": {
   "display_name": "Python 3 (ipykernel)",
   "language": "python",
   "name": "python3"
  },
  "language_info": {
   "codemirror_mode": {
    "name": "ipython",
    "version": 3
   },
   "file_extension": ".py",
   "mimetype": "text/x-python",
   "name": "python",
   "nbconvert_exporter": "python",
   "pygments_lexer": "ipython3",
   "version": "3.10.9"
  }
 },
 "nbformat": 4,
 "nbformat_minor": 4
}
