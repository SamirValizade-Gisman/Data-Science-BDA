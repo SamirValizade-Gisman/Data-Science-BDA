{
 "cells": [
  {
   "cell_type": "code",
   "execution_count": null,
   "id": "68f4dde1",
   "metadata": {},
   "outputs": [],
   "source": [
    "\"\"\"\n",
    "string yaradin. ve hemin stringdeki :\n",
    "\n",
    "1.butun herfleri boyuk.\n",
    "2.butun herfleri kicik.\n",
    "3.sadece birinci herifi boyuk yazin.\n",
    "\n",
    "\"\"\""
   ]
  },
  {
   "cell_type": "code",
   "execution_count": null,
   "id": "6cc6f88e",
   "metadata": {},
   "outputs": [],
   "source": [
    "ad = 'Cografi Informasiya Sistemleri'\n",
    "#1\n",
    "ad.upper()"
   ]
  },
  {
   "cell_type": "code",
   "execution_count": null,
   "id": "4fee93af",
   "metadata": {},
   "outputs": [],
   "source": [
    "#2\n",
    "ad.casefold()"
   ]
  },
  {
   "cell_type": "code",
   "execution_count": null,
   "id": "bf717bac",
   "metadata": {},
   "outputs": [],
   "source": [
    "#3\n",
    "ad.capitalize()"
   ]
  },
  {
   "cell_type": "code",
   "execution_count": null,
   "id": "35a8ae1b",
   "metadata": {},
   "outputs": [],
   "source": [
    "\"\"\"\n",
    "\n",
    "user den input goturun ve:\n",
    "\n",
    "\n",
    "1. icinde a herfi var mi baxin.\n",
    "2. icinde nece dene b herfi var.\n",
    "\"\"\""
   ]
  },
  {
   "cell_type": "code",
   "execution_count": 16,
   "id": "6010e912",
   "metadata": {},
   "outputs": [
    {
     "name": "stdout",
     "output_type": "stream",
     "text": [
      "String daxil edin: Benovseyi bag\n",
      "True\n",
      "2\n"
     ]
    }
   ],
   "source": [
    "user_input = (input('String daxil edin: ')).lower()\n",
    "\n",
    "#1\n",
    "check_a = 'a' in user_input\n",
    "print(check_a)\n",
    "#2\n",
    "print(user_input.count('b'))"
   ]
  },
  {
   "cell_type": "code",
   "execution_count": null,
   "id": "4d824156",
   "metadata": {},
   "outputs": [],
   "source": [
    "\"\"\"\n",
    "bu bir test tapsiriqidir.\n",
    "\n",
    "1. cumleni bosluqla ayirin\n",
    "2. ayrilmis string toplusunu(list yeni) birlesdirin.\n",
    "3. birlesdirilmis cumlenin butun sozlerinin ilk herfini boyuk herf ile yazin\n",
    "\"\"\""
   ]
  },
  {
   "cell_type": "code",
   "execution_count": 9,
   "id": "e5e6862a",
   "metadata": {},
   "outputs": [
    {
     "data": {
      "text/plain": [
       "['Akif', 'heyetde', 'usaqlarla', 'top', 'oynayirdi']"
      ]
     },
     "execution_count": 9,
     "metadata": {},
     "output_type": "execute_result"
    }
   ],
   "source": [
    "cumle = 'Akif heyetde usaqlarla top oynayirdi'\n",
    "#1\n",
    "cumle_listi = cumle.split(' ')\n",
    "cumle_listi"
   ]
  },
  {
   "cell_type": "code",
   "execution_count": 12,
   "id": "9c60c34e",
   "metadata": {},
   "outputs": [
    {
     "data": {
      "text/plain": [
       "'Akif heyetde usaqlarla top oynayirdi'"
      ]
     },
     "execution_count": 12,
     "metadata": {},
     "output_type": "execute_result"
    }
   ],
   "source": [
    "#2\n",
    "yeni_cumle = ' '.join(cumle_listi)\n",
    "yeni_cumle"
   ]
  },
  {
   "cell_type": "code",
   "execution_count": 13,
   "id": "b446b528",
   "metadata": {},
   "outputs": [
    {
     "data": {
      "text/plain": [
       "'Akif Heyetde Usaqlarla Top Oynayirdi'"
      ]
     },
     "execution_count": 13,
     "metadata": {},
     "output_type": "execute_result"
    }
   ],
   "source": [
    "#3\n",
    "yeni_cumle.title()"
   ]
  },
  {
   "cell_type": "code",
   "execution_count": null,
   "id": "bfc4be27",
   "metadata": {},
   "outputs": [],
   "source": []
  }
 ],
 "metadata": {
  "kernelspec": {
   "display_name": "Python 3 (ipykernel)",
   "language": "python",
   "name": "python3"
  },
  "language_info": {
   "codemirror_mode": {
    "name": "ipython",
    "version": 3
   },
   "file_extension": ".py",
   "mimetype": "text/x-python",
   "name": "python",
   "nbconvert_exporter": "python",
   "pygments_lexer": "ipython3",
   "version": "3.10.9"
  }
 },
 "nbformat": 4,
 "nbformat_minor": 5
}
