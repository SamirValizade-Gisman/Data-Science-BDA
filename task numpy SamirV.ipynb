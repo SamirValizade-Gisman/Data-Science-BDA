{
 "cells": [
  {
   "cell_type": "markdown",
   "id": "1aa9bd40",
   "metadata": {},
   "source": [
    "`array`: Creates a NumPy array from a given list.\n",
    "\n",
    "`copy:` Creates a deep copy of the array.\n",
    "\n",
    "`view:` Creates a new view of the array with the same data.\n",
    "\n",
    "`ndim:` Returns the number of dimensions of the array.\n",
    "\n",
    "`astype`: Changes the data type of the array.\n",
    "\n",
    "`reshape`: Returns a new array with a modified shape.\n",
    "\n",
    "`dtypes`: Accesses the data type of the array elements."
   ]
  },
  {
   "cell_type": "code",
   "execution_count": null,
   "id": "422e0019",
   "metadata": {},
   "outputs": [],
   "source": [
    "# 1\n",
    "bunda array yarat [2, 4, 6, 8, 10,15]."
   ]
  },
  {
   "cell_type": "code",
   "execution_count": 1,
   "id": "0bc97b93",
   "metadata": {},
   "outputs": [],
   "source": [
    "import numpy as np"
   ]
  },
  {
   "cell_type": "code",
   "execution_count": 15,
   "id": "104c3583",
   "metadata": {},
   "outputs": [
    {
     "name": "stdout",
     "output_type": "stream",
     "text": [
      "[ 2  4  6  8 10 15]\n"
     ]
    }
   ],
   "source": [
    "arr = np.array([2, 4, 6, 8, 10,15])\n",
    "print(arr)\n"
   ]
  },
  {
   "cell_type": "code",
   "execution_count": null,
   "id": "7c2f36d3",
   "metadata": {},
   "outputs": [],
   "source": [
    "# 2 \n",
    "hemin array in 1 ci indexi 5 ile deyis sonra 1 element daha elave et array e"
   ]
  },
  {
   "cell_type": "code",
   "execution_count": 16,
   "id": "80bbd258",
   "metadata": {},
   "outputs": [
    {
     "name": "stdout",
     "output_type": "stream",
     "text": [
      "Element elave etdikden sonra:  [ 5  4  6  8 10 15 24]\n"
     ]
    }
   ],
   "source": [
    "arr[0]=5\n",
    "arr = np.append(arr,24)\n",
    "print('Element elave etdikden sonra: ',arr)"
   ]
  },
  {
   "cell_type": "code",
   "execution_count": null,
   "id": "637e582a",
   "metadata": {},
   "outputs": [],
   "source": [
    "# 3\n",
    "hemin array`in kopyasini yarat"
   ]
  },
  {
   "cell_type": "code",
   "execution_count": 17,
   "id": "23fcd036",
   "metadata": {},
   "outputs": [
    {
     "name": "stdout",
     "output_type": "stream",
     "text": [
      "Kopya:  [ 5  4  6  8 10 15 24]\n"
     ]
    }
   ],
   "source": [
    "arr1 = np.copy(arr)\n",
    "print('Kopya: ',arr1)"
   ]
  },
  {
   "cell_type": "code",
   "execution_count": null,
   "id": "2987c02e",
   "metadata": {},
   "outputs": [],
   "source": [
    "# 4 \n",
    "hemin arrayin sadece 4,5,6 ya qeder olan hissesinin kopyasini yarat"
   ]
  },
  {
   "cell_type": "code",
   "execution_count": 18,
   "id": "36bf91b5",
   "metadata": {},
   "outputs": [
    {
     "name": "stdout",
     "output_type": "stream",
     "text": [
      "[5 4 6]\n"
     ]
    }
   ],
   "source": [
    "arr2 = np.copy(arr[:3])\n",
    "print(arr2)"
   ]
  },
  {
   "cell_type": "code",
   "execution_count": null,
   "id": "bbe5d2b0",
   "metadata": {},
   "outputs": [],
   "source": [
    "# 5\n",
    "Hemin arrayin view`nu yarat"
   ]
  },
  {
   "cell_type": "code",
   "execution_count": 20,
   "id": "1cc7e2d5",
   "metadata": {},
   "outputs": [
    {
     "name": "stdout",
     "output_type": "stream",
     "text": [
      "[ 5  4  6  8 10 15 24]\n"
     ]
    }
   ],
   "source": [
    "arr_view = arr\n",
    "print(arr_view)"
   ]
  },
  {
   "cell_type": "code",
   "execution_count": null,
   "id": "23af9537",
   "metadata": {},
   "outputs": [],
   "source": [
    "# 6 \n",
    "hemin arrayi i 3x2 reshape et shape ni goster ve herhansi bir deyere assign et"
   ]
  },
  {
   "cell_type": "code",
   "execution_count": 37,
   "id": "90ee5827",
   "metadata": {},
   "outputs": [
    {
     "name": "stdout",
     "output_type": "stream",
     "text": [
      "Reshape edildi \n",
      " [[ 2  4]\n",
      " [ 6  8]\n",
      " [10 15]]\n",
      "Element deyer assign \n",
      " [[ 2  4]\n",
      " [ 6  8]\n",
      " [10 12]]\n"
     ]
    }
   ],
   "source": [
    "arr = np.array([2, 4, 6, 8, 10,15])\n",
    "arr_reshape = arr.reshape(3,2)\n",
    "print('Reshape edildi \\n',arr_reshape)\n",
    "arr_reshape[2,1]=12\n",
    "print('Element deyer assign \\n',arr_reshape)"
   ]
  },
  {
   "cell_type": "code",
   "execution_count": null,
   "id": "9d3ecab5",
   "metadata": {},
   "outputs": [],
   "source": [
    "# 7 \n",
    "assign olunmus array i evvelki halina qaytar"
   ]
  },
  {
   "cell_type": "code",
   "execution_count": 38,
   "id": "92108ad6",
   "metadata": {},
   "outputs": [
    {
     "name": "stdout",
     "output_type": "stream",
     "text": [
      "[ 2  4  6  8 10 12]\n"
     ]
    }
   ],
   "source": [
    "arr_orig = arr_reshape.reshape(-1)\n",
    "print(arr_orig)"
   ]
  },
  {
   "cell_type": "code",
   "execution_count": null,
   "id": "dfffa034",
   "metadata": {},
   "outputs": [],
   "source": [
    "# 8 \n",
    "ilk yaradilan array`i print et sadece siralama 1+ artsin yeni 2,6,10 kimi"
   ]
  },
  {
   "cell_type": "code",
   "execution_count": 41,
   "id": "432e23ab",
   "metadata": {},
   "outputs": [
    {
     "name": "stdout",
     "output_type": "stream",
     "text": [
      "[ 2  4  6  8 10 15]\n"
     ]
    },
    {
     "data": {
      "text/plain": [
       "array([ 2,  6, 10])"
      ]
     },
     "execution_count": 41,
     "metadata": {},
     "output_type": "execute_result"
    }
   ],
   "source": [
    "arr = np.array([2, 4, 6, 8, 10,15])\n",
    "print(arr)\n",
    "arr[::2]"
   ]
  },
  {
   "cell_type": "code",
   "execution_count": null,
   "id": "92e54398",
   "metadata": {},
   "outputs": [],
   "source": [
    "# 9 \n",
    "array in dtype ni goster ve sonrasinda onu float olaraq deyis"
   ]
  },
  {
   "cell_type": "code",
   "execution_count": 48,
   "id": "26101ed4",
   "metadata": {},
   "outputs": [
    {
     "data": {
      "text/plain": [
       "dtype('float64')"
      ]
     },
     "execution_count": 48,
     "metadata": {},
     "output_type": "execute_result"
    }
   ],
   "source": [
    "arr.dtype\n",
    "\n",
    "arr = arr.astype('float')\n",
    "arr.dtype"
   ]
  },
  {
   "cell_type": "code",
   "execution_count": null,
   "id": "d858af56",
   "metadata": {},
   "outputs": [],
   "source": [
    "#10 \n",
    "[10,20,30,12],\n",
    "[36,87,98,18]\n",
    "[21,24,29,25]\n",
    "[44,33,22,10]\n",
    "[36,42,88,70]\n",
    "bundan 2 dim array yarat \n",
    "sonra \n",
    "[33,22,10]\n",
    "[42,88,70]\n",
    "bele output verecek kod yaz\n",
    "sonra \n",
    "[24,29]\n",
    "[33,22]\n",
    "bele output verecek kod yaz\n",
    "\n",
    "[70]\n",
    "bele output verecek kod yaz"
   ]
  },
  {
   "cell_type": "code",
   "execution_count": 61,
   "id": "e5d770f1",
   "metadata": {},
   "outputs": [
    {
     "name": "stdout",
     "output_type": "stream",
     "text": [
      "[[10 20 30 12]\n",
      " [36 87 98 18]\n",
      " [21 24 29 25]\n",
      " [44 33 22 10]\n",
      " [36 42 88 70]]\n"
     ]
    }
   ],
   "source": [
    "arr = np.array([\n",
    "    [10, 20, 30, 12],\n",
    "    [36, 87, 98, 18],\n",
    "    [21, 24, 29, 25],\n",
    "    [44, 33, 22, 10],\n",
    "    [36, 42, 88, 70]\n",
    "])\n",
    "print(arr)"
   ]
  },
  {
   "cell_type": "code",
   "execution_count": 62,
   "id": "121188c1",
   "metadata": {},
   "outputs": [
    {
     "name": "stdout",
     "output_type": "stream",
     "text": [
      "[[33 22 10]\n",
      " [42 88 70]]\n"
     ]
    }
   ],
   "source": [
    "arr_1 = arr[3:5,1:4]\n",
    "print(arr_1)"
   ]
  },
  {
   "cell_type": "code",
   "execution_count": 63,
   "id": "a4ace2d6",
   "metadata": {},
   "outputs": [
    {
     "name": "stdout",
     "output_type": "stream",
     "text": [
      "[[24 29]\n",
      " [33 22]]\n"
     ]
    }
   ],
   "source": [
    "arr_2 = arr[2:4,1:3]\n",
    "print(arr_2)"
   ]
  },
  {
   "cell_type": "code",
   "execution_count": 64,
   "id": "fd5ab530",
   "metadata": {},
   "outputs": [
    {
     "name": "stdout",
     "output_type": "stream",
     "text": [
      "[70]\n"
     ]
    }
   ],
   "source": [
    "arr_3 = arr[4,3:4]\n",
    "print(arr_3)"
   ]
  },
  {
   "cell_type": "code",
   "execution_count": null,
   "id": "1c746d5f",
   "metadata": {},
   "outputs": [],
   "source": []
  }
 ],
 "metadata": {
  "kernelspec": {
   "display_name": "Python 3 (ipykernel)",
   "language": "python",
   "name": "python3"
  },
  "language_info": {
   "codemirror_mode": {
    "name": "ipython",
    "version": 3
   },
   "file_extension": ".py",
   "mimetype": "text/x-python",
   "name": "python",
   "nbconvert_exporter": "python",
   "pygments_lexer": "ipython3",
   "version": "3.10.9"
  }
 },
 "nbformat": 4,
 "nbformat_minor": 5
}
