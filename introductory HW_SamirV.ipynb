{
 "cells": [
  {
   "cell_type": "code",
   "execution_count": 29,
   "metadata": {},
   "outputs": [
    {
     "name": "stdout",
     "output_type": "stream",
     "text": [
      "python programming $* language\n"
     ]
    }
   ],
   "source": [
    "#1\n",
    "\n",
    "#aşağıdakı görüntünü yaratmağa çalışın\n",
    "\n",
    "#Note: goruntu pozulmasin deye yeni cell den yazin"
   ]
  },
  {
   "cell_type": "code",
   "execution_count": 1,
   "metadata": {},
   "outputs": [
    {
     "name": "stdout",
     "output_type": "stream",
     "text": [
      "python programming $* language\n"
     ]
    }
   ],
   "source": [
    "print(\"python programming $* language\")"
   ]
  },
  {
   "cell_type": "code",
   "execution_count": 37,
   "metadata": {},
   "outputs": [
    {
     "name": "stdout",
     "output_type": "stream",
     "text": [
      "Ad\n",
      "Soyad:"
     ]
    }
   ],
   "source": [
    "#2\n",
    "\n",
    "#aşağıdakı görüntünü yaratmağa çalışın\n",
    "\n",
    "#Note: goruntu pozulmasin deye yeni cell den yazin"
   ]
  },
  {
   "cell_type": "code",
   "execution_count": 2,
   "metadata": {},
   "outputs": [
    {
     "name": "stdout",
     "output_type": "stream",
     "text": [
      "Ad\n",
      "Soyad:\n"
     ]
    }
   ],
   "source": [
    "print(\"Ad\",\"Soyad:\", sep=\"\\n\")"
   ]
  },
  {
   "cell_type": "code",
   "execution_count": 41,
   "metadata": {},
   "outputs": [],
   "source": [
    "#3\n",
    "\n",
    "#3 dene variable yaradin ve 3-un de type-na baxin"
   ]
  },
  {
   "cell_type": "code",
   "execution_count": 3,
   "metadata": {},
   "outputs": [
    {
     "name": "stdout",
     "output_type": "stream",
     "text": [
      "<class 'str'>\n",
      "<class 'int'>\n",
      "<class 'float'>\n"
     ]
    }
   ],
   "source": [
    "ad=\"Sofi\"\n",
    "num1=34\n",
    "num2=23.8\n",
    "print(type(ad))\n",
    "print(type(num1))\n",
    "print(type(num2))"
   ]
  },
  {
   "cell_type": "code",
   "execution_count": 5,
   "metadata": {},
   "outputs": [
    {
     "name": "stdout",
     "output_type": "stream",
     "text": [
      "9\n"
     ]
    }
   ],
   "source": [
    "#4\n",
    "\n",
    "var1=2\n",
    "var2=3\n",
    "a=var1=var2\n",
    "print(a+var1+var2)\n",
    "\n",
    "#yuxaridaki kodda ne bas verir (niye bu bas verdi vacibdi ne bas verdi yox) docstring acarag yeni cell de izah edin"
   ]
  },
  {
   "cell_type": "code",
   "execution_count": null,
   "metadata": {},
   "outputs": [],
   "source": [
    "\"\"\" a dəyişkəni var1 dəyişkəninə bərbar olur.  a=1 olur. Lakin kodun ardına baxdıqda var1 dəyişkənin \n",
    "dəyəri var2 olarak dəyişdiyi üçün dəyər var1=3 dəyişir. Bunun nəticəsində a dəyişənidə 3 -ə bərabər olur.\n",
    "Nəticənin 9 olmağı doğrudur.Qısaca olaraq qeyd edim ki, bütün dəyişənlər ən sonuncu dəyişənin dəyərini götürür.\n",
    "\"\"\"\""
   ]
  },
  {
   "cell_type": "code",
   "execution_count": 4,
   "metadata": {},
   "outputs": [
    {
     "ename": "NameError",
     "evalue": "name 'b' is not defined",
     "output_type": "error",
     "traceback": [
      "\u001b[0;31m---------------------------------------------------------------------------\u001b[0m",
      "\u001b[0;31mNameError\u001b[0m                                 Traceback (most recent call last)",
      "Cell \u001b[0;32mIn[4], line 6\u001b[0m\n\u001b[1;32m      4\u001b[0m var2\u001b[38;5;241m=\u001b[39m\u001b[38;5;241m3\u001b[39m\n\u001b[1;32m      5\u001b[0m a\u001b[38;5;241m=\u001b[39mvar1\u001b[38;5;241m=\u001b[39mvar2\n\u001b[0;32m----> 6\u001b[0m a\u001b[38;5;241m=\u001b[39m\u001b[43mb\u001b[49m\n\u001b[1;32m      7\u001b[0m \u001b[38;5;28mprint\u001b[39m(var1\u001b[38;5;241m+\u001b[39ma)\n",
      "\u001b[0;31mNameError\u001b[0m: name 'b' is not defined"
     ]
    }
   ],
   "source": [
    "#5\n",
    "\n",
    "var1=2\n",
    "var2=3\n",
    "a=var1=var2\n",
    "a=b\n",
    "print(var1+a)\n",
    "\n",
    "#yuxaridaki kodda ne bas verir docstring acarag yeni cell de izah edin (niyesini qeyd edin)"
   ]
  },
  {
   "cell_type": "code",
   "execution_count": null,
   "metadata": {},
   "outputs": [],
   "source": [
    "\"\"\" Burdada əvvəlki tapşırığa bənzər məntiqdi. Sadəcə olaraq sonuncu qeyd olunan b dəyişənin heç bir dəyəri\n",
    "təyin olunmayıb. Ona görə təyin olunmayan dəyərlə olan dəyəri yəni var1=3 toplamaq olmur.\"\"\""
   ]
  },
  {
   "cell_type": "code",
   "execution_count": 23,
   "metadata": {},
   "outputs": [
    {
     "name": "stdout",
     "output_type": "stream",
     "text": [
      "\t*\t\n",
      "*\t \t*\n"
     ]
    }
   ],
   "source": [
    "#6\n",
    "\n",
    "#aşağıdakı görüntünü yaratmağa çalışın\n",
    "\n",
    "#Note: goruntu pozulmasin deye yeni cell den yazin ve gorduyunuz bosluglar tablardı"
   ]
  },
  {
   "cell_type": "code",
   "execution_count": 6,
   "metadata": {},
   "outputs": [
    {
     "name": "stdout",
     "output_type": "stream",
     "text": [
      "\t * \t \n",
      " * \t\t *\n"
     ]
    }
   ],
   "source": [
    "print('\\t',\"*\",'\\t','\\n','*','\\t'*2,'*')"
   ]
  },
  {
   "cell_type": "code",
   "execution_count": 16,
   "metadata": {},
   "outputs": [
    {
     "name": "stdout",
     "output_type": "stream",
     "text": [
      "hello world \t\t\thello world\n",
      "\thello world \thello world\n",
      "\t\thello world\n"
     ]
    }
   ],
   "source": [
    "#7\n",
    "\n",
    "#aşağıdakı görüntünü yaratmağa çalışın\n",
    "\n",
    "#Note: goruntu pozulmasin deye yeni cell den yazin ve gorduyunuz bosluglar tablardı"
   ]
  },
  {
   "cell_type": "code",
   "execution_count": 12,
   "metadata": {},
   "outputs": [
    {
     "name": "stdout",
     "output_type": "stream",
     "text": [
      "hello world \t\t\t hello world\n",
      "\t hello world \t hello world\n",
      "\t\t hello world\n"
     ]
    }
   ],
   "source": [
    "print('hello world', '\\t' * 3, 'hello world')\n",
    "print('\\t', 'hello world', '\\t', 'hello world')\n",
    "print('\\t' * 2, 'hello world') #oxunaqli olsun deye her setre bir print isletdim."
   ]
  },
  {
   "cell_type": "code",
   "execution_count": null,
   "metadata": {},
   "outputs": [],
   "source": []
  }
 ],
 "metadata": {
  "kernelspec": {
   "display_name": "Python 3 (ipykernel)",
   "language": "python",
   "name": "python3"
  },
  "language_info": {
   "codemirror_mode": {
    "name": "ipython",
    "version": 3
   },
   "file_extension": ".py",
   "mimetype": "text/x-python",
   "name": "python",
   "nbconvert_exporter": "python",
   "pygments_lexer": "ipython3",
   "version": "3.10.9"
  }
 },
 "nbformat": 4,
 "nbformat_minor": 4
}
