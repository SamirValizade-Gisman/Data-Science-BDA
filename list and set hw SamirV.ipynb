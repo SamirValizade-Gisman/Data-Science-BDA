{
 "cells": [
  {
   "cell_type": "code",
   "execution_count": null,
   "id": "8a4eacc4",
   "metadata": {},
   "outputs": [],
   "source": [
    "\"\"\"\n",
    "userden cumle gotur, cumleni list`e cevir\n",
    "hemin listi print ele \n",
    "hemin listin tersini print ele\n",
    "\n",
    "ex: bu bir cumledir\n",
    "-> [bu,bir,cumledir]\n",
    "->[cumledir,bir,bu]\n",
    "\"\"\""
   ]
  },
  {
   "cell_type": "code",
   "execution_count": 19,
   "id": "0d60e55c",
   "metadata": {},
   "outputs": [
    {
     "name": "stdout",
     "output_type": "stream",
     "text": [
      "Bir cumle daxil edin: Akif ve Eldar yeni layihe ucun gorusduler.\n",
      "['Akif', 've', 'Eldar', 'yeni', 'layihe', 'ucun', 'gorusduler.']\n",
      "['gorusduler.', 'ucun', 'layihe', 'yeni', 'Eldar', 've', 'Akif']\n"
     ]
    }
   ],
   "source": [
    "cumle = input('Bir cumle daxil edin: ')\n",
    "cumle_list = list(cumle.split(' '))\n",
    "print(cumle_list)\n",
    "cumle_list.reverse()\n",
    "print(cumle_list)"
   ]
  },
  {
   "cell_type": "code",
   "execution_count": null,
   "id": "47bc457a",
   "metadata": {},
   "outputs": [],
   "source": [
    "\"\"\"\n",
    "userden cumle gotur, cumleni list`e cevir\n",
    "hemin listi print ele \n",
    "hemin listin en uzun elementi print ele\n",
    "\n",
    "ex: bu bir cumledir\n",
    "output-> [bu,bir,cumledir]\n",
    "output-> cumledir\n",
    "\"\"\""
   ]
  },
  {
   "cell_type": "code",
   "execution_count": 16,
   "id": "ac5c0734",
   "metadata": {},
   "outputs": [
    {
     "name": "stdout",
     "output_type": "stream",
     "text": [
      "Bir cumle daxil edin: Akif ve Eldar yeni layiheleri ucun donor axtarirdilar.\n",
      "['Akif', 've', 'Eldar', 'yeni', 'layiheleri', 'ucun', 'donor', 'axtarirdilar.']\n",
      "En uzun soz:  axtarirdilar.\n"
     ]
    }
   ],
   "source": [
    "cumle_2 = input('Bir cumle daxil edin: ')\n",
    "cumle_2_list = cumle_2.split(' ')\n",
    "print(cumle_2_list)\n",
    "max_string = max(cumle_2_list,key = len)\n",
    "print('En uzun soz: ',max_string)"
   ]
  },
  {
   "cell_type": "code",
   "execution_count": null,
   "id": "de6c09c0",
   "metadata": {},
   "outputs": [],
   "source": [
    "\"\"\"\n",
    "1den 5e qeder reqemler listi yarat\n",
    "\n",
    "1) 6 ni elave et\n",
    "2) 5i sil\n",
    "3)1 ile 2 arasina 25 elave et\n",
    "\n",
    "\n",
    "\"\"\""
   ]
  },
  {
   "cell_type": "code",
   "execution_count": 9,
   "id": "6f5f983a",
   "metadata": {},
   "outputs": [
    {
     "name": "stdout",
     "output_type": "stream",
     "text": [
      "[1, 2, 3, 4, 5, 6]\n",
      "[1, 2, 3, 4, 6]\n",
      "[1, 25, 2, 3, 4, 6]\n"
     ]
    }
   ],
   "source": [
    "number = [1,2,3,4,5]\n",
    "number.append(6)\n",
    "print(number)\n",
    "number.remove(5)\n",
    "print(number)\n",
    "number.insert(1,25)\n",
    "print(number)"
   ]
  },
  {
   "cell_type": "code",
   "execution_count": null,
   "id": "e41d00d7",
   "metadata": {},
   "outputs": [],
   "source": [
    "\"\"\"\n",
    "bir meyve seti yarat ve hemin meyve setine mango elave et sonra mangonu sil\n",
    "\"\"\""
   ]
  },
  {
   "cell_type": "code",
   "execution_count": 11,
   "id": "af00a4bc",
   "metadata": {},
   "outputs": [
    {
     "name": "stdout",
     "output_type": "stream",
     "text": [
      "{'heyva', 'nar', 'armud', 'alma'}\n",
      "{'heyva', 'nar', 'alma', 'mango', 'armud'}\n",
      "{'heyva', 'nar', 'alma', 'armud'}\n"
     ]
    }
   ],
   "source": [
    "meyve = {'alma','armud','heyva','nar'}\n",
    "print(meyve)\n",
    "meyve.add('mango')\n",
    "print(meyve)\n",
    "meyve.discard('mango')\n",
    "print(meyve)"
   ]
  },
  {
   "cell_type": "code",
   "execution_count": null,
   "id": "e4199eea",
   "metadata": {},
   "outputs": [],
   "source": [
    "\"\"\"\n",
    "2 masin set i yarat ve hemin 2 setin ortaq olan item'lari gos\n",
    "\"\"\""
   ]
  },
  {
   "cell_type": "code",
   "execution_count": 15,
   "id": "1248b24d",
   "metadata": {},
   "outputs": [
    {
     "name": "stdout",
     "output_type": "stream",
     "text": [
      "Ortaq olan masinlar:  {'Toyoto', 'Opel', 'KIA'}\n"
     ]
    }
   ],
   "source": [
    "masin_1 = {'Opel','KIA','Geely','Changan','Audi','Toyoto'}\n",
    "masin_2 = {'Opel','Mercedes','KIA','BMW','Toyoto','Hyundai'}\n",
    "ortaq_masin = masin_1.intersection(masin_2)\n",
    "print(\"Ortaq olan masinlar: \", ortaq_masin)"
   ]
  },
  {
   "cell_type": "code",
   "execution_count": null,
   "id": "6c70619c",
   "metadata": {},
   "outputs": [],
   "source": []
  }
 ],
 "metadata": {
  "kernelspec": {
   "display_name": "Python 3 (ipykernel)",
   "language": "python",
   "name": "python3"
  },
  "language_info": {
   "codemirror_mode": {
    "name": "ipython",
    "version": 3
   },
   "file_extension": ".py",
   "mimetype": "text/x-python",
   "name": "python",
   "nbconvert_exporter": "python",
   "pygments_lexer": "ipython3",
   "version": "3.10.9"
  }
 },
 "nbformat": 4,
 "nbformat_minor": 5
}
