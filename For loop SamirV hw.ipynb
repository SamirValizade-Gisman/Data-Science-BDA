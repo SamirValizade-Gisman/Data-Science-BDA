{
 "cells": [
  {
   "cell_type": "code",
   "execution_count": null,
   "id": "4d7c88ae",
   "metadata": {},
   "outputs": [],
   "source": [
    "\"\"\"\n",
    "userden soz gotur sozun tersi ozune beraberdirse output bu soz palindrome dir yazsin\n",
    "\n",
    "meselen aha sozu tersden de aha dir \n",
    " \n",
    "\"\"\""
   ]
  },
  {
   "cell_type": "code",
   "execution_count": 26,
   "id": "9868e0ca",
   "metadata": {},
   "outputs": [
    {
     "name": "stdout",
     "output_type": "stream",
     "text": [
      "Yeni soz daxil et: Ata\n",
      " Palindrome soz : ata\n"
     ]
    }
   ],
   "source": [
    "soz = (input('Yeni soz daxil et: ')).lower()\n",
    "if soz == soz[::-1]:\n",
    "    print(f' Palindrome soz : {soz}')\n",
    "else:\n",
    "    print(\"Netice sehvdir\")"
   ]
  },
  {
   "cell_type": "code",
   "execution_count": null,
   "id": "b72f556c",
   "metadata": {},
   "outputs": [],
   "source": [
    "\"\"\"\n",
    "userden ededler gotur ve hemin ededlerden bir list yarat ve\n",
    "hemin listin icindeki butun cut ededlerin toplamini hesablat ve ekrana yazdir\n",
    "\n",
    "hint: userden inputu vergul ile ayirmasini iste\n",
    "user = input(\"please enter integers separated by commas:\")\n",
    "    1,2,3,4,5-> bunu list et \n",
    "\"\"\""
   ]
  },
  {
   "cell_type": "code",
   "execution_count": 17,
   "id": "dd066a67",
   "metadata": {},
   "outputs": [
    {
     "name": "stdout",
     "output_type": "stream",
     "text": [
      "Reqemler daxil edin ve reqemleri vergulle bolun: 1,34,87,22,3,5,8,109,46\n",
      " Daxil olan ededler siyahisi: ['1', '34', '87', '22', '3', '5', '8', '109', '46'] \n",
      " Cut ededlerin cemi:110\n"
     ]
    }
   ],
   "source": [
    "numbers = input('Reqemler daxil edin ve reqemleri vergulle bolun: ')\n",
    "numbers_list = numbers.split(',')\n",
    "cut_ededler_cem = 0\n",
    "for i in numbers_list:\n",
    "    i=int(i)\n",
    "    if i%2==0:\n",
    "        cut_ededler_cem+=i\n",
    "    else:\n",
    "        pass\n",
    "print(f' Daxil olan ededler siyahisi: {numbers_list} \\n Cut ededlerin cemi:{cut_ededler_cem}')"
   ]
  },
  {
   "cell_type": "code",
   "execution_count": null,
   "id": "f6f09e7b",
   "metadata": {},
   "outputs": [],
   "source": [
    "\"\"\"\n",
    "vurma cedveli  yan yana print ele \n",
    " \n",
    "\"\"\""
   ]
  },
  {
   "cell_type": "code",
   "execution_count": 23,
   "id": "7b1a8edf",
   "metadata": {},
   "outputs": [
    {
     "name": "stdout",
     "output_type": "stream",
     "text": [
      "1 x 1 = 1 1 x 2 = 2 1 x 3 = 3 1 x 4 = 4 1 x 5 = 5 1 x 6 = 6 1 x 7 = 7 1 x 8 = 8 1 x 9 = 9 1 x 10 = 10 \n",
      "2 x 1 = 2 2 x 2 = 4 2 x 3 = 6 2 x 4 = 8 2 x 5 = 10 2 x 6 = 12 2 x 7 = 14 2 x 8 = 16 2 x 9 = 18 2 x 10 = 20 \n",
      "3 x 1 = 3 3 x 2 = 6 3 x 3 = 9 3 x 4 = 12 3 x 5 = 15 3 x 6 = 18 3 x 7 = 21 3 x 8 = 24 3 x 9 = 27 3 x 10 = 30 \n",
      "4 x 1 = 4 4 x 2 = 8 4 x 3 = 12 4 x 4 = 16 4 x 5 = 20 4 x 6 = 24 4 x 7 = 28 4 x 8 = 32 4 x 9 = 36 4 x 10 = 40 \n",
      "5 x 1 = 5 5 x 2 = 10 5 x 3 = 15 5 x 4 = 20 5 x 5 = 25 5 x 6 = 30 5 x 7 = 35 5 x 8 = 40 5 x 9 = 45 5 x 10 = 50 \n",
      "6 x 1 = 6 6 x 2 = 12 6 x 3 = 18 6 x 4 = 24 6 x 5 = 30 6 x 6 = 36 6 x 7 = 42 6 x 8 = 48 6 x 9 = 54 6 x 10 = 60 \n",
      "7 x 1 = 7 7 x 2 = 14 7 x 3 = 21 7 x 4 = 28 7 x 5 = 35 7 x 6 = 42 7 x 7 = 49 7 x 8 = 56 7 x 9 = 63 7 x 10 = 70 \n",
      "8 x 1 = 8 8 x 2 = 16 8 x 3 = 24 8 x 4 = 32 8 x 5 = 40 8 x 6 = 48 8 x 7 = 56 8 x 8 = 64 8 x 9 = 72 8 x 10 = 80 \n",
      "9 x 1 = 9 9 x 2 = 18 9 x 3 = 27 9 x 4 = 36 9 x 5 = 45 9 x 6 = 54 9 x 7 = 63 9 x 8 = 72 9 x 9 = 81 9 x 10 = 90 \n",
      "10 x 1 = 10 10 x 2 = 20 10 x 3 = 30 10 x 4 = 40 10 x 5 = 50 10 x 6 = 60 10 x 7 = 70 10 x 8 = 80 10 x 9 = 90 10 x 10 = 100 \n"
     ]
    }
   ],
   "source": [
    "for i in range(1,11):\n",
    "    for j in range(1,11):\n",
    "        print(f'{i} x {j} = {i*j}',end = \" \")\n",
    "    print()\n"
   ]
  },
  {
   "cell_type": "code",
   "execution_count": null,
   "id": "c1bcb298",
   "metadata": {},
   "outputs": [],
   "source": [
    "\"\"\"\n",
    "[12,67,1,100,25,11]\n",
    "listinin en boyuk ve 2ci en boyuk deyerini tap . \n",
    "hazir funksiyardan istifade etmek olmaz. sadece for loop ile yazin\n",
    "\"\"\""
   ]
  },
  {
   "cell_type": "code",
   "execution_count": 35,
   "id": "bfbf4144",
   "metadata": {},
   "outputs": [
    {
     "name": "stdout",
     "output_type": "stream",
     "text": [
      " En boyuk 1 ci reqem: 100 \n",
      " En boyuk 2 ci reqem: 67\n"
     ]
    }
   ],
   "source": [
    "lists = [12,67,1,100,25,11]\n",
    "boyuk_1 = 0\n",
    "boyuk_2 = 0\n",
    "for i in lists:\n",
    "    if i>boyuk_1:\n",
    "        boyuk_1=i\n",
    "        lists.remove(boyuk_1)\n",
    "for i in lists:\n",
    "    if i>boyuk_2:\n",
    "        boyuk_2=i\n",
    "print(f' En boyuk 1 ci reqem: {boyuk_1} \\n En boyuk 2 ci reqem: {boyuk_2}')"
   ]
  },
  {
   "cell_type": "code",
   "execution_count": null,
   "id": "1bc8cdde",
   "metadata": {},
   "outputs": [],
   "source": []
  }
 ],
 "metadata": {
  "kernelspec": {
   "display_name": "Python 3 (ipykernel)",
   "language": "python",
   "name": "python3"
  },
  "language_info": {
   "codemirror_mode": {
    "name": "ipython",
    "version": 3
   },
   "file_extension": ".py",
   "mimetype": "text/x-python",
   "name": "python",
   "nbconvert_exporter": "python",
   "pygments_lexer": "ipython3",
   "version": "3.10.9"
  }
 },
 "nbformat": 4,
 "nbformat_minor": 5
}
