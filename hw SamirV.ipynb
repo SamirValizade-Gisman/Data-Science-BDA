{
 "cells": [
  {
   "cell_type": "code",
   "execution_count": 33,
   "id": "bf37f7df",
   "metadata": {},
   "outputs": [],
   "source": [
    "# 1. name ve country`e gore sort eden lambda funksiyasi yaz\n",
    "my_list = [{'name': 'Alice', 'age': 30, 'country': 'Canada'},\n",
    "           {'name': 'Bob', 'age': 25, 'country': 'USA'},\n",
    "           {'name': 'Charlie', 'age': 35, 'country': 'Canada'}]"
   ]
  },
  {
   "cell_type": "code",
   "execution_count": 34,
   "id": "31ac15d3",
   "metadata": {},
   "outputs": [
    {
     "name": "stdout",
     "output_type": "stream",
     "text": [
      "[{'name': 'Alice', 'age': 30, 'country': 'Canada'}, {'name': 'Bob', 'age': 25, 'country': 'USA'}, {'name': 'Charlie', 'age': 35, 'country': 'Canada'}]\n"
     ]
    }
   ],
   "source": [
    "new_dict = sorted(my_list, key=lambda x: (x['name'], x['country']))\n",
    "\n",
    "print(new_dict)"
   ]
  },
  {
   "cell_type": "code",
   "execution_count": 12,
   "id": "02acfc32",
   "metadata": {},
   "outputs": [],
   "source": [
    "# 2. listi reverse eden lambda funksiyasi yaz reverse = True istifade etme\n",
    "my_list = [1, 2, 3, 4, 5]"
   ]
  },
  {
   "cell_type": "code",
   "execution_count": 14,
   "id": "4789d552",
   "metadata": {},
   "outputs": [
    {
     "name": "stdout",
     "output_type": "stream",
     "text": [
      "[5, 4, 3, 2, 1]\n"
     ]
    }
   ],
   "source": [
    "print(sorted(my_list, key =  lambda x: -x))"
   ]
  },
  {
   "cell_type": "code",
   "execution_count": null,
   "id": "5489c326",
   "metadata": {},
   "outputs": [],
   "source": [
    "# 3. listin kvadratini hesablayan funksiya yaz\n",
    "my_list = [1, 2, 3, 4, 5]"
   ]
  },
  {
   "cell_type": "code",
   "execution_count": 8,
   "id": "ba0071a8",
   "metadata": {},
   "outputs": [
    {
     "data": {
      "text/plain": [
       "[1, 4, 9, 16, 25]"
      ]
     },
     "execution_count": 8,
     "metadata": {},
     "output_type": "execute_result"
    }
   ],
   "source": [
    "list(map(lambda x: x*x,my_list))"
   ]
  },
  {
   "cell_type": "code",
   "execution_count": 1,
   "id": "1e1b9f74",
   "metadata": {},
   "outputs": [],
   "source": [
    "# 4. listin hasilini yazan funkisya yaz\n",
    "my_list = [1, 2, 3, 4, 5]"
   ]
  },
  {
   "cell_type": "code",
   "execution_count": 11,
   "id": "d94e5e9c",
   "metadata": {},
   "outputs": [
    {
     "name": "stdout",
     "output_type": "stream",
     "text": [
      "120\n"
     ]
    }
   ],
   "source": [
    "from functools import reduce\n",
    "mylist = map(lambda x: x, my_list)\n",
    "hasil = reduce(lambda x, y: x * y, mylist)\n",
    "print(hasil)"
   ]
  },
  {
   "cell_type": "code",
   "execution_count": 24,
   "id": "3d3b5d0a",
   "metadata": {},
   "outputs": [],
   "source": [
    "#5. dublicatlari atan funkisya yaz ve sort et listi lambda istifade ederek\n",
    "my_list = [3, 2, 1, 2, 3, 4, 5, 4, 6]"
   ]
  },
  {
   "cell_type": "code",
   "execution_count": 25,
   "id": "1b2bb73e",
   "metadata": {},
   "outputs": [
    {
     "data": {
      "text/plain": [
       "{1, 2, 3, 4, 5, 6}"
      ]
     },
     "execution_count": 25,
     "metadata": {},
     "output_type": "execute_result"
    }
   ],
   "source": [
    "new_list = lambda lists: set(sorted(lists))\n",
    "new_list(my_list)"
   ]
  },
  {
   "cell_type": "code",
   "execution_count": null,
   "id": "0dfdd7ef",
   "metadata": {},
   "outputs": [],
   "source": [
    "# 6. listin en boyuk 2ci elemeneti tap lambda ile"
   ]
  },
  {
   "cell_type": "code",
   "execution_count": 32,
   "id": "6cab11d0",
   "metadata": {},
   "outputs": [
    {
     "name": "stdout",
     "output_type": "stream",
     "text": [
      "5\n"
     ]
    }
   ],
   "source": [
    "boyuk = lambda lists: sorted(set(lists), reverse=True)[1]\n",
    "netice = boyuk(my_list)\n",
    "print(netice)"
   ]
  }
 ],
 "metadata": {
  "kernelspec": {
   "display_name": "Python 3 (ipykernel)",
   "language": "python",
   "name": "python3"
  },
  "language_info": {
   "codemirror_mode": {
    "name": "ipython",
    "version": 3
   },
   "file_extension": ".py",
   "mimetype": "text/x-python",
   "name": "python",
   "nbconvert_exporter": "python",
   "pygments_lexer": "ipython3",
   "version": "3.10.9"
  }
 },
 "nbformat": 4,
 "nbformat_minor": 5
}
